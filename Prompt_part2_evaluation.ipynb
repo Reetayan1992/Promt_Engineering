{
 "cells": [
  {
   "cell_type": "code",
   "execution_count": 0,
   "metadata": {
    "application/vnd.databricks.v1+cell": {
     "cellMetadata": {
      "byteLimit": 2048000,
      "rowLimit": 10000
     },
     "inputWidgets": {},
     "nuid": "f169afa9-2ba6-4d9d-a081-07a7437a5a0b",
     "showTitle": false,
     "tableResultSettingsMap": {},
     "title": ""
    }
   },
   "outputs": [
    {
     "output_type": "stream",
     "name": "stdout",
     "output_type": "stream",
     "text": [
      "Requirement already satisfied: mlflow in /local_disk0/.ephemeral_nfs/envs/pythonEnv-a13337e5-cccd-4b67-9b0c-dd34049def25/lib/python3.11/site-packages (2.14.3)\nRequirement already satisfied: databricks_genai_inference==0.2.3 in /local_disk0/.ephemeral_nfs/envs/pythonEnv-a13337e5-cccd-4b67-9b0c-dd34049def25/lib/python3.11/site-packages (0.2.3)\nRequirement already satisfied: evaluate in /local_disk0/.ephemeral_nfs/envs/pythonEnv-a13337e5-cccd-4b67-9b0c-dd34049def25/lib/python3.11/site-packages (0.4.3)\nRequirement already satisfied: torch in /local_disk0/.ephemeral_nfs/envs/pythonEnv-a13337e5-cccd-4b67-9b0c-dd34049def25/lib/python3.11/site-packages (2.7.1)\nRequirement already satisfied: transformers in /local_disk0/.ephemeral_nfs/envs/pythonEnv-a13337e5-cccd-4b67-9b0c-dd34049def25/lib/python3.11/site-packages (4.52.4)\nRequirement already satisfied: textstat in /local_disk0/.ephemeral_nfs/envs/pythonEnv-a13337e5-cccd-4b67-9b0c-dd34049def25/lib/python3.11/site-packages (0.7.7)\nRequirement already satisfied: pyyaml>=5.4.1 in /databricks/python3/lib/python3.11/site-packages (from databricks_genai_inference==0.2.3) (6.0)\nRequirement already satisfied: requests<3,>=2.26.0 in /local_disk0/.ephemeral_nfs/envs/pythonEnv-a13337e5-cccd-4b67-9b0c-dd34049def25/lib/python3.11/site-packages (from databricks_genai_inference==0.2.3) (2.32.3)\nRequirement already satisfied: databricks-sdk==0.19.1 in /local_disk0/.ephemeral_nfs/envs/pythonEnv-a13337e5-cccd-4b67-9b0c-dd34049def25/lib/python3.11/site-packages (from databricks_genai_inference==0.2.3) (0.19.1)\nRequirement already satisfied: pydantic>=2.4.2 in /local_disk0/.ephemeral_nfs/envs/pythonEnv-a13337e5-cccd-4b67-9b0c-dd34049def25/lib/python3.11/site-packages (from databricks_genai_inference==0.2.3) (2.11.5)\nRequirement already satisfied: typing-extensions>=4.7.1 in /local_disk0/.ephemeral_nfs/envs/pythonEnv-a13337e5-cccd-4b67-9b0c-dd34049def25/lib/python3.11/site-packages (from databricks_genai_inference==0.2.3) (4.14.0)\nRequirement already satisfied: tenacity==8.2.3 in /local_disk0/.ephemeral_nfs/envs/pythonEnv-a13337e5-cccd-4b67-9b0c-dd34049def25/lib/python3.11/site-packages (from databricks_genai_inference==0.2.3) (8.2.3)\nRequirement already satisfied: httpx<1,>=0.23.0 in /local_disk0/.ephemeral_nfs/envs/pythonEnv-a13337e5-cccd-4b67-9b0c-dd34049def25/lib/python3.11/site-packages (from databricks_genai_inference==0.2.3) (0.28.1)\nRequirement already satisfied: google-auth~=2.0 in /databricks/python3/lib/python3.11/site-packages (from databricks-sdk==0.19.1->databricks_genai_inference==0.2.3) (2.35.0)\nRequirement already satisfied: Flask<4 in /local_disk0/.ephemeral_nfs/envs/pythonEnv-a13337e5-cccd-4b67-9b0c-dd34049def25/lib/python3.11/site-packages (from mlflow) (3.1.1)\nRequirement already satisfied: alembic!=1.10.0,<2 in /local_disk0/.ephemeral_nfs/envs/pythonEnv-a13337e5-cccd-4b67-9b0c-dd34049def25/lib/python3.11/site-packages (from mlflow) (1.16.1)\nRequirement already satisfied: cachetools<6,>=5.0.0 in /databricks/python3/lib/python3.11/site-packages (from mlflow) (5.5.0)\nRequirement already satisfied: click<9,>=7.0 in /local_disk0/.ephemeral_nfs/envs/pythonEnv-a13337e5-cccd-4b67-9b0c-dd34049def25/lib/python3.11/site-packages (from mlflow) (8.2.1)\nRequirement already satisfied: cloudpickle<4 in /databricks/python3/lib/python3.11/site-packages (from mlflow) (3.0.0)\nRequirement already satisfied: docker<8,>=4.0.0 in /local_disk0/.ephemeral_nfs/envs/pythonEnv-a13337e5-cccd-4b67-9b0c-dd34049def25/lib/python3.11/site-packages (from mlflow) (7.1.0)\nRequirement already satisfied: entrypoints<1 in /databricks/python3/lib/python3.11/site-packages (from mlflow) (0.4)\nRequirement already satisfied: gitpython<4,>=3.1.9 in /databricks/python3/lib/python3.11/site-packages (from mlflow) (3.1.43)\nRequirement already satisfied: graphene<4 in /local_disk0/.ephemeral_nfs/envs/pythonEnv-a13337e5-cccd-4b67-9b0c-dd34049def25/lib/python3.11/site-packages (from mlflow) (3.4.3)\nRequirement already satisfied: importlib-metadata!=4.7.0,<8,>=3.7.0 in /databricks/python3/lib/python3.11/site-packages (from mlflow) (6.0.0)\nRequirement already satisfied: markdown<4,>=3.3 in /local_disk0/.ephemeral_nfs/envs/pythonEnv-a13337e5-cccd-4b67-9b0c-dd34049def25/lib/python3.11/site-packages (from mlflow) (3.8)\nRequirement already satisfied: matplotlib<4 in /databricks/python3/lib/python3.11/site-packages (from mlflow) (3.7.2)\nRequirement already satisfied: numpy<2 in /databricks/python3/lib/python3.11/site-packages (from mlflow) (1.23.5)\nRequirement already satisfied: opentelemetry-api<3,>=1.9.0 in /local_disk0/.ephemeral_nfs/envs/pythonEnv-a13337e5-cccd-4b67-9b0c-dd34049def25/lib/python3.11/site-packages (from mlflow) (1.34.0)\nRequirement already satisfied: opentelemetry-sdk<3,>=1.9.0 in /local_disk0/.ephemeral_nfs/envs/pythonEnv-a13337e5-cccd-4b67-9b0c-dd34049def25/lib/python3.11/site-packages (from mlflow) (1.34.0)\nRequirement already satisfied: packaging<25 in /databricks/python3/lib/python3.11/site-packages (from mlflow) (23.2)\nRequirement already satisfied: pandas<3 in /databricks/python3/lib/python3.11/site-packages (from mlflow) (1.5.3)\nRequirement already satisfied: protobuf<5,>=3.12.0 in /local_disk0/.ephemeral_nfs/envs/pythonEnv-a13337e5-cccd-4b67-9b0c-dd34049def25/lib/python3.11/site-packages (from mlflow) (4.25.8)\nRequirement already satisfied: pyarrow<16,>=4.0.0 in /local_disk0/.ephemeral_nfs/envs/pythonEnv-a13337e5-cccd-4b67-9b0c-dd34049def25/lib/python3.11/site-packages (from mlflow) (15.0.2)\nRequirement already satisfied: pytz<2025 in /databricks/python3/lib/python3.11/site-packages (from mlflow) (2022.7)\nRequirement already satisfied: querystring-parser<2 in /local_disk0/.ephemeral_nfs/envs/pythonEnv-a13337e5-cccd-4b67-9b0c-dd34049def25/lib/python3.11/site-packages (from mlflow) (1.2.4)\nRequirement already satisfied: scikit-learn<2 in /databricks/python3/lib/python3.11/site-packages (from mlflow) (1.3.0)\nRequirement already satisfied: scipy<2 in /databricks/python3/lib/python3.11/site-packages (from mlflow) (1.11.1)\nRequirement already satisfied: sqlalchemy<3,>=1.4.0 in /local_disk0/.ephemeral_nfs/envs/pythonEnv-a13337e5-cccd-4b67-9b0c-dd34049def25/lib/python3.11/site-packages (from mlflow) (2.0.41)\nRequirement already satisfied: sqlparse<1,>=0.4.0 in /databricks/python3/lib/python3.11/site-packages (from mlflow) (0.5.1)\nRequirement already satisfied: Jinja2<4,>=2.11 in /local_disk0/.ephemeral_nfs/envs/pythonEnv-a13337e5-cccd-4b67-9b0c-dd34049def25/lib/python3.11/site-packages (from mlflow) (3.1.6)\nRequirement already satisfied: gunicorn<23 in /local_disk0/.ephemeral_nfs/envs/pythonEnv-a13337e5-cccd-4b67-9b0c-dd34049def25/lib/python3.11/site-packages (from mlflow) (22.0.0)\nRequirement already satisfied: datasets>=2.0.0 in /local_disk0/.ephemeral_nfs/envs/pythonEnv-a13337e5-cccd-4b67-9b0c-dd34049def25/lib/python3.11/site-packages (from evaluate) (3.6.0)\nRequirement already satisfied: dill in /local_disk0/.ephemeral_nfs/envs/pythonEnv-a13337e5-cccd-4b67-9b0c-dd34049def25/lib/python3.11/site-packages (from evaluate) (0.3.8)\nRequirement already satisfied: tqdm>=4.62.1 in /local_disk0/.ephemeral_nfs/envs/pythonEnv-a13337e5-cccd-4b67-9b0c-dd34049def25/lib/python3.11/site-packages (from evaluate) (4.67.1)\nRequirement already satisfied: xxhash in /local_disk0/.ephemeral_nfs/envs/pythonEnv-a13337e5-cccd-4b67-9b0c-dd34049def25/lib/python3.11/site-packages (from evaluate) (3.5.0)\nRequirement already satisfied: multiprocess in /local_disk0/.ephemeral_nfs/envs/pythonEnv-a13337e5-cccd-4b67-9b0c-dd34049def25/lib/python3.11/site-packages (from evaluate) (0.70.16)\nRequirement already satisfied: fsspec>=2021.05.0 in /local_disk0/.ephemeral_nfs/envs/pythonEnv-a13337e5-cccd-4b67-9b0c-dd34049def25/lib/python3.11/site-packages (from fsspec[http]>=2021.05.0->evaluate) (2025.3.0)\nRequirement already satisfied: huggingface-hub>=0.7.0 in /local_disk0/.ephemeral_nfs/envs/pythonEnv-a13337e5-cccd-4b67-9b0c-dd34049def25/lib/python3.11/site-packages (from evaluate) (0.32.4)\nRequirement already satisfied: filelock in /databricks/python3/lib/python3.11/site-packages (from torch) (3.13.4)\nRequirement already satisfied: sympy>=1.13.3 in /local_disk0/.ephemeral_nfs/envs/pythonEnv-a13337e5-cccd-4b67-9b0c-dd34049def25/lib/python3.11/site-packages (from torch) (1.14.0)\nRequirement already satisfied: networkx in /local_disk0/.ephemeral_nfs/envs/pythonEnv-a13337e5-cccd-4b67-9b0c-dd34049def25/lib/python3.11/site-packages (from torch) (3.5)\nRequirement already satisfied: nvidia-cuda-nvrtc-cu12==12.6.77 in /local_disk0/.ephemeral_nfs/envs/pythonEnv-a13337e5-cccd-4b67-9b0c-dd34049def25/lib/python3.11/site-packages (from torch) (12.6.77)\nRequirement already satisfied: nvidia-cuda-runtime-cu12==12.6.77 in /local_disk0/.ephemeral_nfs/envs/pythonEnv-a13337e5-cccd-4b67-9b0c-dd34049def25/lib/python3.11/site-packages (from torch) (12.6.77)\nRequirement already satisfied: nvidia-cuda-cupti-cu12==12.6.80 in /local_disk0/.ephemeral_nfs/envs/pythonEnv-a13337e5-cccd-4b67-9b0c-dd34049def25/lib/python3.11/site-packages (from torch) (12.6.80)\nRequirement already satisfied: nvidia-cudnn-cu12==9.5.1.17 in /local_disk0/.ephemeral_nfs/envs/pythonEnv-a13337e5-cccd-4b67-9b0c-dd34049def25/lib/python3.11/site-packages (from torch) (9.5.1.17)\nRequirement already satisfied: nvidia-cublas-cu12==12.6.4.1 in /local_disk0/.ephemeral_nfs/envs/pythonEnv-a13337e5-cccd-4b67-9b0c-dd34049def25/lib/python3.11/site-packages (from torch) (12.6.4.1)\nRequirement already satisfied: nvidia-cufft-cu12==11.3.0.4 in /local_disk0/.ephemeral_nfs/envs/pythonEnv-a13337e5-cccd-4b67-9b0c-dd34049def25/lib/python3.11/site-packages (from torch) (11.3.0.4)\nRequirement already satisfied: nvidia-curand-cu12==10.3.7.77 in /local_disk0/.ephemeral_nfs/envs/pythonEnv-a13337e5-cccd-4b67-9b0c-dd34049def25/lib/python3.11/site-packages (from torch) (10.3.7.77)\nRequirement already satisfied: nvidia-cusolver-cu12==11.7.1.2 in /local_disk0/.ephemeral_nfs/envs/pythonEnv-a13337e5-cccd-4b67-9b0c-dd34049def25/lib/python3.11/site-packages (from torch) (11.7.1.2)\nRequirement already satisfied: nvidia-cusparse-cu12==12.5.4.2 in /local_disk0/.ephemeral_nfs/envs/pythonEnv-a13337e5-cccd-4b67-9b0c-dd34049def25/lib/python3.11/site-packages (from torch) (12.5.4.2)\nRequirement already satisfied: nvidia-cusparselt-cu12==0.6.3 in /local_disk0/.ephemeral_nfs/envs/pythonEnv-a13337e5-cccd-4b67-9b0c-dd34049def25/lib/python3.11/site-packages (from torch) (0.6.3)\nRequirement already satisfied: nvidia-nccl-cu12==2.26.2 in /local_disk0/.ephemeral_nfs/envs/pythonEnv-a13337e5-cccd-4b67-9b0c-dd34049def25/lib/python3.11/site-packages (from torch) (2.26.2)\nRequirement already satisfied: nvidia-nvtx-cu12==12.6.77 in /local_disk0/.ephemeral_nfs/envs/pythonEnv-a13337e5-cccd-4b67-9b0c-dd34049def25/lib/python3.11/site-packages (from torch) (12.6.77)\nRequirement already satisfied: nvidia-nvjitlink-cu12==12.6.85 in /local_disk0/.ephemeral_nfs/envs/pythonEnv-a13337e5-cccd-4b67-9b0c-dd34049def25/lib/python3.11/site-packages (from torch) (12.6.85)\nRequirement already satisfied: nvidia-cufile-cu12==1.11.1.6 in /local_disk0/.ephemeral_nfs/envs/pythonEnv-a13337e5-cccd-4b67-9b0c-dd34049def25/lib/python3.11/site-packages (from torch) (1.11.1.6)\nRequirement already satisfied: triton==3.3.1 in /local_disk0/.ephemeral_nfs/envs/pythonEnv-a13337e5-cccd-4b67-9b0c-dd34049def25/lib/python3.11/site-packages (from torch) (3.3.1)\nRequirement already satisfied: setuptools>=40.8.0 in /databricks/python3/lib/python3.11/site-packages (from triton==3.3.1->torch) (75.1.0)\nRequirement already satisfied: regex!=2019.12.17 in /local_disk0/.ephemeral_nfs/envs/pythonEnv-a13337e5-cccd-4b67-9b0c-dd34049def25/lib/python3.11/site-packages (from transformers) (2024.11.6)\nRequirement already satisfied: tokenizers<0.22,>=0.21 in /local_disk0/.ephemeral_nfs/envs/pythonEnv-a13337e5-cccd-4b67-9b0c-dd34049def25/lib/python3.11/site-packages (from transformers) (0.21.1)\nRequirement already satisfied: safetensors>=0.4.3 in /local_disk0/.ephemeral_nfs/envs/pythonEnv-a13337e5-cccd-4b67-9b0c-dd34049def25/lib/python3.11/site-packages (from transformers) (0.5.3)\nRequirement already satisfied: pyphen in /local_disk0/.ephemeral_nfs/envs/pythonEnv-a13337e5-cccd-4b67-9b0c-dd34049def25/lib/python3.11/site-packages (from textstat) (0.17.2)\nRequirement already satisfied: cmudict in /local_disk0/.ephemeral_nfs/envs/pythonEnv-a13337e5-cccd-4b67-9b0c-dd34049def25/lib/python3.11/site-packages (from textstat) (1.0.32)\nRequirement already satisfied: Mako in /local_disk0/.ephemeral_nfs/envs/pythonEnv-a13337e5-cccd-4b67-9b0c-dd34049def25/lib/python3.11/site-packages (from alembic!=1.10.0,<2->mlflow) (1.3.10)\nRequirement already satisfied: urllib3>=1.26.0 in /databricks/python3/lib/python3.11/site-packages (from docker<8,>=4.0.0->mlflow) (1.26.16)\nRequirement already satisfied: blinker>=1.9.0 in /local_disk0/.ephemeral_nfs/envs/pythonEnv-a13337e5-cccd-4b67-9b0c-dd34049def25/lib/python3.11/site-packages (from Flask<4->mlflow) (1.9.0)\nRequirement already satisfied: itsdangerous>=2.2.0 in /local_disk0/.ephemeral_nfs/envs/pythonEnv-a13337e5-cccd-4b67-9b0c-dd34049def25/lib/python3.11/site-packages (from Flask<4->mlflow) (2.2.0)\nRequirement already satisfied: markupsafe>=2.1.1 in /local_disk0/.ephemeral_nfs/envs/pythonEnv-a13337e5-cccd-4b67-9b0c-dd34049def25/lib/python3.11/site-packages (from Flask<4->mlflow) (3.0.2)\nRequirement already satisfied: werkzeug>=3.1.0 in /local_disk0/.ephemeral_nfs/envs/pythonEnv-a13337e5-cccd-4b67-9b0c-dd34049def25/lib/python3.11/site-packages (from Flask<4->mlflow) (3.1.3)\nRequirement already satisfied: aiohttp!=4.0.0a0,!=4.0.0a1 in /local_disk0/.ephemeral_nfs/envs/pythonEnv-a13337e5-cccd-4b67-9b0c-dd34049def25/lib/python3.11/site-packages (from fsspec[http]>=2021.05.0->evaluate) (3.12.11)\nRequirement already satisfied: gitdb<5,>=4.0.1 in /databricks/python3/lib/python3.11/site-packages (from gitpython<4,>=3.1.9->mlflow) (4.0.11)\nRequirement already satisfied: graphql-core<3.3,>=3.1 in /local_disk0/.ephemeral_nfs/envs/pythonEnv-a13337e5-cccd-4b67-9b0c-dd34049def25/lib/python3.11/site-packages (from graphene<4->mlflow) (3.2.6)\nRequirement already satisfied: graphql-relay<3.3,>=3.1 in /local_disk0/.ephemeral_nfs/envs/pythonEnv-a13337e5-cccd-4b67-9b0c-dd34049def25/lib/python3.11/site-packages (from graphene<4->mlflow) (3.2.0)\nRequirement already satisfied: python-dateutil<3,>=2.7.0 in /databricks/python3/lib/python3.11/site-packages (from graphene<4->mlflow) (2.8.2)\nRequirement already satisfied: anyio in /local_disk0/.ephemeral_nfs/envs/pythonEnv-a13337e5-cccd-4b67-9b0c-dd34049def25/lib/python3.11/site-packages (from httpx<1,>=0.23.0->databricks_genai_inference==0.2.3) (4.9.0)\nRequirement already satisfied: certifi in /databricks/python3/lib/python3.11/site-packages (from httpx<1,>=0.23.0->databricks_genai_inference==0.2.3) (2023.7.22)\nRequirement already satisfied: httpcore==1.* in /local_disk0/.ephemeral_nfs/envs/pythonEnv-a13337e5-cccd-4b67-9b0c-dd34049def25/lib/python3.11/site-packages (from httpx<1,>=0.23.0->databricks_genai_inference==0.2.3) (1.0.9)\nRequirement already satisfied: idna in /databricks/python3/lib/python3.11/site-packages (from httpx<1,>=0.23.0->databricks_genai_inference==0.2.3) (3.4)\nRequirement already satisfied: h11>=0.16 in /local_disk0/.ephemeral_nfs/envs/pythonEnv-a13337e5-cccd-4b67-9b0c-dd34049def25/lib/python3.11/site-packages (from httpcore==1.*->httpx<1,>=0.23.0->databricks_genai_inference==0.2.3) (0.16.0)\nRequirement already satisfied: hf-xet<2.0.0,>=1.1.2 in /local_disk0/.ephemeral_nfs/envs/pythonEnv-a13337e5-cccd-4b67-9b0c-dd34049def25/lib/python3.11/site-packages (from huggingface-hub>=0.7.0->evaluate) (1.1.3)\nRequirement already satisfied: zipp>=0.5 in /databricks/python3/lib/python3.11/site-packages (from importlib-metadata!=4.7.0,<8,>=3.7.0->mlflow) (3.11.0)\nRequirement already satisfied: contourpy>=1.0.1 in /databricks/python3/lib/python3.11/site-packages (from matplotlib<4->mlflow) (1.0.5)\nRequirement already satisfied: cycler>=0.10 in /databricks/python3/lib/python3.11/site-packages (from matplotlib<4->mlflow) (0.11.0)\nRequirement already satisfied: fonttools>=4.22.0 in /databricks/python3/lib/python3.11/site-packages (from matplotlib<4->mlflow) (4.25.0)\nRequirement already satisfied: kiwisolver>=1.0.1 in /databricks/python3/lib/python3.11/site-packages (from matplotlib<4->mlflow) (1.4.4)\nRequirement already satisfied: pillow>=6.2.0 in /databricks/python3/lib/python3.11/site-packages (from matplotlib<4->mlflow) (10.3.0)\nRequirement already satisfied: pyparsing<3.1,>=2.3.1 in /databricks/python3/lib/python3.11/site-packages (from matplotlib<4->mlflow) (3.0.9)\nRequirement already satisfied: opentelemetry-semantic-conventions==0.55b0 in /local_disk0/.ephemeral_nfs/envs/pythonEnv-a13337e5-cccd-4b67-9b0c-dd34049def25/lib/python3.11/site-packages (from opentelemetry-sdk<3,>=1.9.0->mlflow) (0.55b0)\nRequirement already satisfied: annotated-types>=0.6.0 in /local_disk0/.ephemeral_nfs/envs/pythonEnv-a13337e5-cccd-4b67-9b0c-dd34049def25/lib/python3.11/site-packages (from pydantic>=2.4.2->databricks_genai_inference==0.2.3) (0.7.0)\nRequirement already satisfied: pydantic-core==2.33.2 in /local_disk0/.ephemeral_nfs/envs/pythonEnv-a13337e5-cccd-4b67-9b0c-dd34049def25/lib/python3.11/site-packages (from pydantic>=2.4.2->databricks_genai_inference==0.2.3) (2.33.2)\nRequirement already satisfied: typing-inspection>=0.4.0 in /local_disk0/.ephemeral_nfs/envs/pythonEnv-a13337e5-cccd-4b67-9b0c-dd34049def25/lib/python3.11/site-packages (from pydantic>=2.4.2->databricks_genai_inference==0.2.3) (0.4.1)\nRequirement already satisfied: six in /usr/lib/python3/dist-packages (from querystring-parser<2->mlflow) (1.16.0)\nRequirement already satisfied: charset-normalizer<4,>=2 in /databricks/python3/lib/python3.11/site-packages (from requests<3,>=2.26.0->databricks_genai_inference==0.2.3) (2.0.4)\nRequirement already satisfied: joblib>=1.1.1 in /databricks/python3/lib/python3.11/site-packages (from scikit-learn<2->mlflow) (1.2.0)\nRequirement already satisfied: threadpoolctl>=2.0.0 in /databricks/python3/lib/python3.11/site-packages (from scikit-learn<2->mlflow) (2.2.0)\nRequirement already satisfied: greenlet>=1 in /local_disk0/.ephemeral_nfs/envs/pythonEnv-a13337e5-cccd-4b67-9b0c-dd34049def25/lib/python3.11/site-packages (from sqlalchemy<3,>=1.4.0->mlflow) (3.2.3)\nRequirement already satisfied: mpmath<1.4,>=1.1.0 in /local_disk0/.ephemeral_nfs/envs/pythonEnv-a13337e5-cccd-4b67-9b0c-dd34049def25/lib/python3.11/site-packages (from sympy>=1.13.3->torch) (1.3.0)\nRequirement already satisfied: importlib-resources>=5 in /local_disk0/.ephemeral_nfs/envs/pythonEnv-a13337e5-cccd-4b67-9b0c-dd34049def25/lib/python3.11/site-packages (from cmudict->textstat) (6.5.2)\nRequirement already satisfied: aiohappyeyeballs>=2.5.0 in /local_disk0/.ephemeral_nfs/envs/pythonEnv-a13337e5-cccd-4b67-9b0c-dd34049def25/lib/python3.11/site-packages (from aiohttp!=4.0.0a0,!=4.0.0a1->fsspec[http]>=2021.05.0->evaluate) (2.6.1)\nRequirement already satisfied: aiosignal>=1.1.2 in /local_disk0/.ephemeral_nfs/envs/pythonEnv-a13337e5-cccd-4b67-9b0c-dd34049def25/lib/python3.11/site-packages (from aiohttp!=4.0.0a0,!=4.0.0a1->fsspec[http]>=2021.05.0->evaluate) (1.3.2)\nRequirement already satisfied: attrs>=17.3.0 in /local_disk0/.ephemeral_nfs/envs/pythonEnv-a13337e5-cccd-4b67-9b0c-dd34049def25/lib/python3.11/site-packages (from aiohttp!=4.0.0a0,!=4.0.0a1->fsspec[http]>=2021.05.0->evaluate) (25.3.0)\nRequirement already satisfied: frozenlist>=1.1.1 in /local_disk0/.ephemeral_nfs/envs/pythonEnv-a13337e5-cccd-4b67-9b0c-dd34049def25/lib/python3.11/site-packages (from aiohttp!=4.0.0a0,!=4.0.0a1->fsspec[http]>=2021.05.0->evaluate) (1.6.2)\nRequirement already satisfied: multidict<7.0,>=4.5 in /local_disk0/.ephemeral_nfs/envs/pythonEnv-a13337e5-cccd-4b67-9b0c-dd34049def25/lib/python3.11/site-packages (from aiohttp!=4.0.0a0,!=4.0.0a1->fsspec[http]>=2021.05.0->evaluate) (6.4.4)\nRequirement already satisfied: propcache>=0.2.0 in /local_disk0/.ephemeral_nfs/envs/pythonEnv-a13337e5-cccd-4b67-9b0c-dd34049def25/lib/python3.11/site-packages (from aiohttp!=4.0.0a0,!=4.0.0a1->fsspec[http]>=2021.05.0->evaluate) (0.3.1)\nRequirement already satisfied: yarl<2.0,>=1.17.0 in /local_disk0/.ephemeral_nfs/envs/pythonEnv-a13337e5-cccd-4b67-9b0c-dd34049def25/lib/python3.11/site-packages (from aiohttp!=4.0.0a0,!=4.0.0a1->fsspec[http]>=2021.05.0->evaluate) (1.20.0)\nRequirement already satisfied: smmap<6,>=3.0.1 in /databricks/python3/lib/python3.11/site-packages (from gitdb<5,>=4.0.1->gitpython<4,>=3.1.9->mlflow) (5.0.1)\nRequirement already satisfied: pyasn1-modules>=0.2.1 in /databricks/python3/lib/python3.11/site-packages (from google-auth~=2.0->databricks-sdk==0.19.1->databricks_genai_inference==0.2.3) (0.2.8)\nRequirement already satisfied: rsa<5,>=3.1.4 in /databricks/python3/lib/python3.11/site-packages (from google-auth~=2.0->databricks-sdk==0.19.1->databricks_genai_inference==0.2.3) (4.9)\nRequirement already satisfied: sniffio>=1.1 in /local_disk0/.ephemeral_nfs/envs/pythonEnv-a13337e5-cccd-4b67-9b0c-dd34049def25/lib/python3.11/site-packages (from anyio->httpx<1,>=0.23.0->databricks_genai_inference==0.2.3) (1.3.1)\nRequirement already satisfied: pyasn1<0.5.0,>=0.4.6 in /databricks/python3/lib/python3.11/site-packages (from pyasn1-modules>=0.2.1->google-auth~=2.0->databricks-sdk==0.19.1->databricks_genai_inference==0.2.3) (0.4.8)\n\u001B[43mNote: you may need to restart the kernel using %restart_python or dbutils.library.restartPython() to use updated packages.\u001B[0m\n"
     ]
    }
   ],
   "source": [
    "!pip install mlflow databricks_genai_inference==0.2.3 evaluate torch transformers textstat\n",
    "dbutils.library.restartPython()"
   ]
  },
  {
   "cell_type": "code",
   "execution_count": 0,
   "metadata": {
    "application/vnd.databricks.v1+cell": {
     "cellMetadata": {
      "byteLimit": 2048000,
      "rowLimit": 10000
     },
     "inputWidgets": {},
     "nuid": "aff6aa9f-7105-4ce8-bd0c-bd179c9ae4ff",
     "showTitle": false,
     "tableResultSettingsMap": {},
     "title": ""
    }
   },
   "outputs": [
    {
     "output_type": "stream",
     "name": "stdout",
     "output_type": "stream",
     "text": [
      "<Experiment: artifact_location='dbfs:/databricks/mlflow-tracking/3338850700169488', creation_time=1749494168504, experiment_id='3338850700169488', last_update_time=1749494168504, lifecycle_stage='active', name='/Users/reetayan.das@apexon.com/src/Prompt_part2_evaluation', tags={'mlflow.experiment.sourceName': '/Users/reetayan.das@apexon.com/src/Prompt_part2_evaluation',\n 'mlflow.experimentType': 'NOTEBOOK',\n 'mlflow.ownerEmail': 'reetayan.das@apexon.com',\n 'mlflow.ownerId': '2277038023903646'}>\nDeleted <Response [404]> runs from experiment 3338850700169488\n"
     ]
    }
   ],
   "source": [
    "import mlflow\n",
    "\n",
    "notebook_name = dbutils.notebook.entry_point.getDbutils().notebook().getContext().notebookPath().get()\n",
    "experiment = mlflow.get_experiment_by_name(notebook_name)\n",
    "print(experiment)\n",
    "\n",
    "from mlflow.utils.databricks_utils import get_databricks_host_creds\n",
    "from mlflow.utils.rest_utils import http_request\n",
    "import time\n",
    "\n",
    "max_timestamp_millis = int(time.time() * 1000)\n",
    "\n",
    "json_body = {\n",
    "  \"experiment_id\": experiment.experiment_id,\n",
    "  \"max_timestamp_millis\": max_timestamp_millis,\n",
    "  \"max_runs\": 10\n",
    "}\n",
    "\n",
    "response = http_request(\n",
    "  host_creds=get_databricks_host_creds(),\n",
    "  endpoint=\"/api/2.0/preview/mlflow/experiments/get-runs\",\n",
    "  method=\"POST\",\n",
    "  json=json_body,\n",
    ")\n",
    "\n",
    "def delete_all_runs(experiment_id):\n",
    "  host_creds = get_databricks_host_creds()\n",
    "  response = http_request(\n",
    "    host_creds=host_creds,\n",
    "    endpoint=f\"/api/2.0/preview/mlflow/experiments/{experiment_id}/runs\",\n",
    "    method=\"DELETE\",\n",
    "  )\n",
    "  return response\n",
    "\n",
    "experiment_id = experiment.experiment_id\n",
    "deleted_runs_count = delete_all_runs(experiment_id)\n",
    "print(f\"Deleted {deleted_runs_count} runs from experiment {experiment_id}\") "
   ]
  },
  {
   "cell_type": "code",
   "execution_count": 0,
   "metadata": {
    "application/vnd.databricks.v1+cell": {
     "cellMetadata": {},
     "inputWidgets": {},
     "nuid": "dee447bc-345b-4092-8984-f20f2d862219",
     "showTitle": false,
     "tableResultSettingsMap": {},
     "title": ""
    }
   },
   "outputs": [],
   "source": []
  }
 ],
 "metadata": {
  "application/vnd.databricks.v1+notebook": {
   "computePreferences": null,
   "dashboards": [],
   "environmentMetadata": {
    "base_environment": "",
    "environment_version": "2"
   },
   "inputWidgetPreferences": null,
   "language": "python",
   "notebookMetadata": {
    "pythonIndentUnit": 4
   },
   "notebookName": "Prompt_part2_evaluation",
   "widgets": {}
  },
  "language_info": {
   "name": "python"
  }
 },
 "nbformat": 4,
 "nbformat_minor": 0
}